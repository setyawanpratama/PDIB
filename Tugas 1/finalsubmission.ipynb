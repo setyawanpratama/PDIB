{
 "cells": [
  {
   "cell_type": "code",
   "execution_count": 1,
   "metadata": {},
   "outputs": [],
   "source": [
    "# import libraries needed\n",
    "from scipy import stats\n",
    "import pandas as pd\n",
    "import numpy as np\n",
    "import matplotlib.pyplot as plt"
   ]
  },
  {
   "cell_type": "code",
   "execution_count": 2,
   "metadata": {},
   "outputs": [],
   "source": [
    "loan_dataset = pd.read_csv('data-t1.csv',low_memory = False)"
   ]
  },
  {
   "cell_type": "code",
   "execution_count": 3,
   "metadata": {},
   "outputs": [
    {
     "data": {
      "text/html": [
       "<div>\n",
       "<style scoped>\n",
       "    .dataframe tbody tr th:only-of-type {\n",
       "        vertical-align: middle;\n",
       "    }\n",
       "\n",
       "    .dataframe tbody tr th {\n",
       "        vertical-align: top;\n",
       "    }\n",
       "\n",
       "    .dataframe thead th {\n",
       "        text-align: right;\n",
       "    }\n",
       "</style>\n",
       "<table border=\"1\" class=\"dataframe\">\n",
       "  <thead>\n",
       "    <tr style=\"text-align: right;\">\n",
       "      <th></th>\n",
       "      <th>loan_status</th>\n",
       "      <th>loan_amnt</th>\n",
       "      <th>int_rate</th>\n",
       "      <th>grade</th>\n",
       "      <th>emp_length</th>\n",
       "      <th>home_ownership</th>\n",
       "      <th>annual_inc</th>\n",
       "      <th>term</th>\n",
       "    </tr>\n",
       "  </thead>\n",
       "  <tbody>\n",
       "    <tr>\n",
       "      <th>0</th>\n",
       "      <td>Current</td>\n",
       "      <td>2500</td>\n",
       "      <td>13.56</td>\n",
       "      <td>C</td>\n",
       "      <td>10+ years</td>\n",
       "      <td>RENT</td>\n",
       "      <td>55000</td>\n",
       "      <td>36 months</td>\n",
       "    </tr>\n",
       "    <tr>\n",
       "      <th>1</th>\n",
       "      <td>Current</td>\n",
       "      <td>30000</td>\n",
       "      <td>18.94</td>\n",
       "      <td>D</td>\n",
       "      <td>10+ years</td>\n",
       "      <td>MORTGAGE</td>\n",
       "      <td>90000</td>\n",
       "      <td>60 months</td>\n",
       "    </tr>\n",
       "    <tr>\n",
       "      <th>2</th>\n",
       "      <td>Current</td>\n",
       "      <td>5000</td>\n",
       "      <td>17.97</td>\n",
       "      <td>D</td>\n",
       "      <td>6 years</td>\n",
       "      <td>MORTGAGE</td>\n",
       "      <td>59280</td>\n",
       "      <td>36 months</td>\n",
       "    </tr>\n",
       "    <tr>\n",
       "      <th>3</th>\n",
       "      <td>Current</td>\n",
       "      <td>4000</td>\n",
       "      <td>18.94</td>\n",
       "      <td>D</td>\n",
       "      <td>10+ years</td>\n",
       "      <td>MORTGAGE</td>\n",
       "      <td>92000</td>\n",
       "      <td>36 months</td>\n",
       "    </tr>\n",
       "    <tr>\n",
       "      <th>4</th>\n",
       "      <td>Current</td>\n",
       "      <td>30000</td>\n",
       "      <td>16.14</td>\n",
       "      <td>C</td>\n",
       "      <td>10+ years</td>\n",
       "      <td>MORTGAGE</td>\n",
       "      <td>57250</td>\n",
       "      <td>60 months</td>\n",
       "    </tr>\n",
       "  </tbody>\n",
       "</table>\n",
       "</div>"
      ],
      "text/plain": [
       "  loan_status  loan_amnt  int_rate grade emp_length home_ownership annual_inc  \\\n",
       "0     Current       2500     13.56     C  10+ years           RENT      55000   \n",
       "1     Current      30000     18.94     D  10+ years       MORTGAGE      90000   \n",
       "2     Current       5000     17.97     D    6 years       MORTGAGE      59280   \n",
       "3     Current       4000     18.94     D  10+ years       MORTGAGE      92000   \n",
       "4     Current      30000     16.14     C  10+ years       MORTGAGE      57250   \n",
       "\n",
       "         term  \n",
       "0   36 months  \n",
       "1   60 months  \n",
       "2   36 months  \n",
       "3   36 months  \n",
       "4   60 months  "
      ]
     },
     "execution_count": 3,
     "metadata": {},
     "output_type": "execute_result"
    }
   ],
   "source": [
    "# get first view about data\n",
    "loan_dataset.head()"
   ]
  },
  {
   "cell_type": "code",
   "execution_count": 4,
   "metadata": {},
   "outputs": [
    {
     "data": {
      "text/html": [
       "<div>\n",
       "<style scoped>\n",
       "    .dataframe tbody tr th:only-of-type {\n",
       "        vertical-align: middle;\n",
       "    }\n",
       "\n",
       "    .dataframe tbody tr th {\n",
       "        vertical-align: top;\n",
       "    }\n",
       "\n",
       "    .dataframe thead th {\n",
       "        text-align: right;\n",
       "    }\n",
       "</style>\n",
       "<table border=\"1\" class=\"dataframe\">\n",
       "  <thead>\n",
       "    <tr style=\"text-align: right;\">\n",
       "      <th></th>\n",
       "      <th>loan_status</th>\n",
       "      <th>loan_amnt</th>\n",
       "      <th>int_rate</th>\n",
       "      <th>grade</th>\n",
       "      <th>emp_length</th>\n",
       "      <th>home_ownership</th>\n",
       "      <th>annual_inc</th>\n",
       "      <th>term</th>\n",
       "    </tr>\n",
       "  </thead>\n",
       "  <tbody>\n",
       "    <tr>\n",
       "      <th>149994</th>\n",
       "      <td>Current</td>\n",
       "      <td>9000</td>\n",
       "      <td>11.55</td>\n",
       "      <td>B</td>\n",
       "      <td>10+ years</td>\n",
       "      <td>RENT</td>\n",
       "      <td>53000</td>\n",
       "      <td>36 months</td>\n",
       "    </tr>\n",
       "    <tr>\n",
       "      <th>149995</th>\n",
       "      <td>In Grace Period</td>\n",
       "      <td>7000</td>\n",
       "      <td>6.67</td>\n",
       "      <td>A</td>\n",
       "      <td>NaN</td>\n",
       "      <td>OWN</td>\n",
       "      <td>34000</td>\n",
       "      <td>36 months</td>\n",
       "    </tr>\n",
       "    <tr>\n",
       "      <th>149996</th>\n",
       "      <td>Current</td>\n",
       "      <td>25525</td>\n",
       "      <td>19.92</td>\n",
       "      <td>D</td>\n",
       "      <td>5 years</td>\n",
       "      <td>RENT</td>\n",
       "      <td>76000</td>\n",
       "      <td>36 months</td>\n",
       "    </tr>\n",
       "    <tr>\n",
       "      <th>149997</th>\n",
       "      <td>Late (31-120 days)</td>\n",
       "      <td>25000</td>\n",
       "      <td>10.08</td>\n",
       "      <td>B</td>\n",
       "      <td>&lt; 1 year</td>\n",
       "      <td>RENT</td>\n",
       "      <td>80000</td>\n",
       "      <td>60 months</td>\n",
       "    </tr>\n",
       "    <tr>\n",
       "      <th>149998</th>\n",
       "      <td>Current</td>\n",
       "      <td>18000</td>\n",
       "      <td>23.40</td>\n",
       "      <td>E</td>\n",
       "      <td>1 year</td>\n",
       "      <td>MORTGAGE</td>\n",
       "      <td>156000</td>\n",
       "      <td>36 months</td>\n",
       "    </tr>\n",
       "  </tbody>\n",
       "</table>\n",
       "</div>"
      ],
      "text/plain": [
       "               loan_status  loan_amnt  int_rate grade emp_length  \\\n",
       "149994             Current       9000     11.55     B  10+ years   \n",
       "149995     In Grace Period       7000      6.67     A        NaN   \n",
       "149996             Current      25525     19.92     D    5 years   \n",
       "149997  Late (31-120 days)      25000     10.08     B   < 1 year   \n",
       "149998             Current      18000     23.40     E     1 year   \n",
       "\n",
       "       home_ownership annual_inc        term  \n",
       "149994           RENT      53000   36 months  \n",
       "149995            OWN      34000   36 months  \n",
       "149996           RENT      76000   36 months  \n",
       "149997           RENT      80000   60 months  \n",
       "149998       MORTGAGE     156000   36 months  "
      ]
     },
     "execution_count": 4,
     "metadata": {},
     "output_type": "execute_result"
    }
   ],
   "source": [
    "loan_dataset.tail()"
   ]
  },
  {
   "cell_type": "code",
   "execution_count": 5,
   "metadata": {},
   "outputs": [
    {
     "data": {
      "text/plain": [
       "(149999, 8)"
      ]
     },
     "execution_count": 5,
     "metadata": {},
     "output_type": "execute_result"
    }
   ],
   "source": [
    "loan_dataset.shape"
   ]
  },
  {
   "cell_type": "code",
   "execution_count": 6,
   "metadata": {},
   "outputs": [
    {
     "name": "stdout",
     "output_type": "stream",
     "text": [
      "<class 'pandas.core.frame.DataFrame'>\n",
      "RangeIndex: 149999 entries, 0 to 149998\n",
      "Data columns (total 8 columns):\n",
      " #   Column          Non-Null Count   Dtype  \n",
      "---  ------          --------------   -----  \n",
      " 0   loan_status     149999 non-null  object \n",
      " 1   loan_amnt       149999 non-null  int64  \n",
      " 2   int_rate        149999 non-null  float64\n",
      " 3   grade           149999 non-null  object \n",
      " 4   emp_length      136331 non-null  object \n",
      " 5   home_ownership  149998 non-null  object \n",
      " 6   annual_inc      149999 non-null  object \n",
      " 7   term            149999 non-null  object \n",
      "dtypes: float64(1), int64(1), object(6)\n",
      "memory usage: 5.7+ MB\n"
     ]
    }
   ],
   "source": [
    "loan_dataset.info()"
   ]
  },
  {
   "cell_type": "code",
   "execution_count": 7,
   "metadata": {},
   "outputs": [
    {
     "data": {
      "text/html": [
       "<div>\n",
       "<style scoped>\n",
       "    .dataframe tbody tr th:only-of-type {\n",
       "        vertical-align: middle;\n",
       "    }\n",
       "\n",
       "    .dataframe tbody tr th {\n",
       "        vertical-align: top;\n",
       "    }\n",
       "\n",
       "    .dataframe thead th {\n",
       "        text-align: right;\n",
       "    }\n",
       "</style>\n",
       "<table border=\"1\" class=\"dataframe\">\n",
       "  <thead>\n",
       "    <tr style=\"text-align: right;\">\n",
       "      <th></th>\n",
       "      <th>loan_amnt</th>\n",
       "      <th>int_rate</th>\n",
       "    </tr>\n",
       "  </thead>\n",
       "  <tbody>\n",
       "    <tr>\n",
       "      <th>count</th>\n",
       "      <td>149999.000000</td>\n",
       "      <td>149999.000000</td>\n",
       "    </tr>\n",
       "    <tr>\n",
       "      <th>mean</th>\n",
       "      <td>16020.048300</td>\n",
       "      <td>12.908296</td>\n",
       "    </tr>\n",
       "    <tr>\n",
       "      <th>std</th>\n",
       "      <td>10138.235301</td>\n",
       "      <td>5.127500</td>\n",
       "    </tr>\n",
       "    <tr>\n",
       "      <th>min</th>\n",
       "      <td>1000.000000</td>\n",
       "      <td>6.000000</td>\n",
       "    </tr>\n",
       "    <tr>\n",
       "      <th>25%</th>\n",
       "      <td>8000.000000</td>\n",
       "      <td>8.460000</td>\n",
       "    </tr>\n",
       "    <tr>\n",
       "      <th>50%</th>\n",
       "      <td>14000.000000</td>\n",
       "      <td>11.800000</td>\n",
       "    </tr>\n",
       "    <tr>\n",
       "      <th>75%</th>\n",
       "      <td>21987.500000</td>\n",
       "      <td>16.140000</td>\n",
       "    </tr>\n",
       "    <tr>\n",
       "      <th>max</th>\n",
       "      <td>40000.000000</td>\n",
       "      <td>30.990000</td>\n",
       "    </tr>\n",
       "  </tbody>\n",
       "</table>\n",
       "</div>"
      ],
      "text/plain": [
       "           loan_amnt       int_rate\n",
       "count  149999.000000  149999.000000\n",
       "mean    16020.048300      12.908296\n",
       "std     10138.235301       5.127500\n",
       "min      1000.000000       6.000000\n",
       "25%      8000.000000       8.460000\n",
       "50%     14000.000000      11.800000\n",
       "75%     21987.500000      16.140000\n",
       "max     40000.000000      30.990000"
      ]
     },
     "execution_count": 7,
     "metadata": {},
     "output_type": "execute_result"
    }
   ],
   "source": [
    "loan_dataset.describe()"
   ]
  },
  {
   "cell_type": "code",
   "execution_count": 8,
   "metadata": {},
   "outputs": [
    {
     "data": {
      "text/plain": [
       "loan_status           0\n",
       "loan_amnt             0\n",
       "int_rate              0\n",
       "grade                 0\n",
       "emp_length        13668\n",
       "home_ownership        1\n",
       "annual_inc            0\n",
       "term                  0\n",
       "dtype: int64"
      ]
     },
     "execution_count": 8,
     "metadata": {},
     "output_type": "execute_result"
    }
   ],
   "source": [
    "# Get started to do data preparation by checking null value in the dataset\n",
    "loan_dataset.isnull().sum(axis = 0)"
   ]
  },
  {
   "cell_type": "code",
   "execution_count": 9,
   "metadata": {},
   "outputs": [],
   "source": [
    "# Change column emp_length and home_ownership null value to mode value of the column\n",
    "loan_dataset['emp_length'].fillna(loan_dataset['emp_length'].mode()[0], inplace = True)\n",
    "loan_dataset['home_ownership'].fillna(loan_dataset['home_ownership'].mode()[0], inplace = True)"
   ]
  },
  {
   "cell_type": "code",
   "execution_count": 10,
   "metadata": {},
   "outputs": [
    {
     "data": {
      "text/plain": [
       "loan_status       0\n",
       "loan_amnt         0\n",
       "int_rate          0\n",
       "grade             0\n",
       "emp_length        0\n",
       "home_ownership    0\n",
       "annual_inc        0\n",
       "term              0\n",
       "dtype: int64"
      ]
     },
     "execution_count": 10,
     "metadata": {},
     "output_type": "execute_result"
    }
   ],
   "source": [
    "# Check again if there is still null value in data\n",
    "loan_dataset.isnull().sum(axis = 0)"
   ]
  },
  {
   "cell_type": "code",
   "execution_count": 11,
   "metadata": {},
   "outputs": [
    {
     "name": "stdout",
     "output_type": "stream",
     "text": [
      "['RENT' 'MORTGAGE' 'OWN' '4 years' '9 years' '10+ years' '1 year' 'ANY'\n",
      " '2 years' '3 years' '6 years' '7 years' '8 years' '5 years'\n",
      " ' Planning and Accountab\"' '< 1 year' ' Events \"' ' Regional Manager\"'\n",
      " 'MOTGAGE' ' Construction Supervisor\"' ' GS 13-3\"'\n",
      " ' Ethics and Compliance\"' ' carpenter\"' ' HR\"' ' IT Mgr\"' ' NC and TN\"'\n",
      " ' Videographer\"' ' and Communications \"' ' and Implant Dentist\"' ' cesc\"'\n",
      " ' utah\"' 'Server\"' ' Sales\"' ' Director of C\"' 'MORGAGE' ' Supervisor\"'\n",
      " 'installation\"' 'maintenance\"' ' and Wellness\"' ' \"' ' security \"'\n",
      " ' Associate Prof\"' ' coach\"' ' starbuck' ' Pension & Comp\"'\n",
      " ' Brand Ambassador' '  Rare Disor\"' ' store manager\"' ' entertainer\"'\n",
      " ' master tech\"' ' welder\"']\n"
     ]
    },
    {
     "data": {
      "text/plain": [
       "\" If we look deeper in the csv file, we can see that there is a pattern for some record error where data that should be on home_ownership gets into the annual_inc while data that's belong to home_ownership gets into the emp_length\""
      ]
     },
     "execution_count": 11,
     "metadata": {},
     "output_type": "execute_result"
    }
   ],
   "source": [
    "# Check if there are any duplicate or incompatible data in the column\n",
    "print(loan_dataset['home_ownership'].unique())\n",
    "''' If we look deeper in the csv file, we can see that there is a pattern for some record error where data that should be on home_ownership gets into the annual_inc while data that's belong to home_ownership gets into the emp_length'''"
   ]
  },
  {
   "cell_type": "code",
   "execution_count": 12,
   "metadata": {},
   "outputs": [],
   "source": [
    "# We want to clean this data\n",
    "# Change typo into the correct value\n",
    "loan_dataset.loc[loan_dataset['home_ownership'].str.contains('MOTGAGE|MORGAGE'), 'home_ownership'] = 'MORTGAGE'\n",
    "\n",
    "# Transform data that \n",
    "loan_dataset.loc[~loan_dataset['home_ownership'].isin(['MORTGAGE','RENT','OWN','ANY']), 'home_ownership'] = loan_dataset['home_ownership'].mode()[0]"
   ]
  },
  {
   "cell_type": "code",
   "execution_count": 13,
   "metadata": {},
   "outputs": [
    {
     "data": {
      "text/plain": [
       "array(['RENT', 'MORTGAGE', 'OWN', 'ANY'], dtype=object)"
      ]
     },
     "execution_count": 13,
     "metadata": {},
     "output_type": "execute_result"
    }
   ],
   "source": [
    "# Check home_ownership column again\n",
    "loan_dataset['home_ownership'].unique()"
   ]
  },
  {
   "cell_type": "code",
   "execution_count": 14,
   "metadata": {},
   "outputs": [
    {
     "name": "stdout",
     "output_type": "stream",
     "text": [
      "{'10+ years': 58736, '< 1 year': 18326, '2 years': 12574, '3 years': 11701, '1 year': 10395, '5 years': 8985, '4 years': 8719, '6 years': 6288, '7 years': 5065, '8 years': 4742, '9 years': 3226, ' Business Development\"': 19, ' Operations\"': 17, ' Marketing\"': 15, ' Human Resources\"': 12, ' IT\"': 11, ' Sales\"': 9, ' Analytics\"': 8, ' RN\"': 7, ' Product Management\"': 7, ' Senior\"': 6, ' Client Services\"': 5, ' VP\"': 5, ' Lead\"': 5, ' Digital Marketing\"': 5, ' FP&A\"': 5, ' Talent Acquisition\"': 4, ' Principal\"': 4, ' Sr.\"': 4, ' Finance\"': 4, ' Sr\"': 4, ' Information Technology\"': 4, ' HR\"': 4, ' Public Relations\"': 3, ' Talent Development\"': 3, ' Communications\"': 3, ' Customer Service\"': 3, ' AVP\"': 3, ' North America\"': 3, ' Human Resources \"': 3, ' Professional Services\"': 3, ' QA\"': 2, ' Clinic Manager\"': 2, ' North East\"': 2, ' I.T.\"': 2, ' Application Development\"': 2, ' Product Marketing\"': 2, ' Business Operations\"': 2, ' CPA\"': 2, ' Program Management\"': 2, ' Logistics Operations\"': 2, ' Shared Services\"': 2, ' OD & Learning\"': 2, ' Internal Audit\"': 2, ' Compliance\"': 2, ' Branch Manager\"': 2, ' Marketing Operations\"': 2, ' Technical Publications\"': 2, ' Brand Management\"': 2, ' LMFT\"': 2, ' Training\"': 2, ' III\"': 2, ' Corporate Accounting\"': 2, ' Producer\"': 2, ' Regulatory Affairs\"': 2, ' Technology\"': 2, ' Project Management\"': 2, ' Quality Assurance\"': 2, ' Transportation\"': 2, ' Data Management\"': 2, ' Supply Chain Management\"': 2, ' Business Intelligence\"': 2, ' Financial Planning and Analysis\"': 2, ' Product Management \"': 2, ' Information Security\"': 2, ' BSN\"': 2, ' National Accounts\"': 2, ' Creative Services\"': 2, ' Logistics\"': 2, ' Assistant Vice President\"': 2, ' Partner\"': 2, ' \"': 2, ' Design\"': 2, ' Employee Relations\"': 2, ' Technology Services\"': 2, ' Registered Nurse\"': 2, ' Director\"': 2, ' Business Services\"': 2, ' Attorney Training & Developmen\"': 1, ' Health & Safety\"': 1, ' Account Representative\"': 1, ' disabled student services \"': 1, ' regional Manager\"': 1, ' Network Pricing\"': 1, ' Enployment First Program \"': 1, ' IT Professional\"': 1, ' C&E Technician\"': 1, ' Land Acquisitions\"': 1, ' hostess': 1, ' Licensed Producer\"': 1, ' Business Applications\"': 1, ' E-commerce\"': 1, ' Technology Infrastructure\"': 1, ' DTR\"': 1, ' Employee Engagement\"': 1, ' Senior Sales Executive\"': 1, ' Data Engineer\"': 1, ' Field Communications\"': 1, ' Informatics\"': 1, ' Finance': 1, ' Field Operations\"': 1, ' Office of Informaiton Services\"': 1, ' Installation and Service\"': 1, ' personnel services\"': 1, ' Interactive Development\"': 1, ' Military Personnel\"': 1, ' Digital Banking\"': 1, ' Administratio\"': 1, ' Networks and Security\"': 1, ' marketing\"': 1, ' Manager': 1, ' Acquisition Integration\"': 1, ' Policy and Operations\"': 1, ' L2\"': 1, ' Facilities\"': 1, ' Counseling Services\"': 1, ' Finance & HR\"': 1, ' Portfolio Services\"': 1, ' VSM\"': 1, ' LPN at Hospice Residence\"': 1, ' CSR\"': 1, ' hair stylist \"': 1, ' Client Partner\"': 1, ' COP\"': 1, ' Benefits': 1, ' Oracle Financials\"': 1, ' Global Medical Affairs\"': 1, ' Housekeeping \"': 1, ' Sales and Account Manag \"': 1, ' SEO\"': 1, 'Business Development&Operations\"': 1, ' FQHC\"': 1, ' Financial Reporting \"': 1, ' Digital Employee Channels\"': 1, ' 3D Environments – Stadium\"': 1, ' equipment operator': 1, ' Sales & Marketing\"': 1, ' Continuing Education Svcs\"': 1, ' Commercial Credit\"': 1, ' independent contractor\"': 1, ' Compensation\"': 1, ' Physician\"': 1, ' marketing and sales\"': 1, ' Grassroots Advocacy\"': 1, ' Tech Architecture/Design\"': 1, 'Cashier': 1, ' Vulnerability Management\"': 1, ' claims specialist\"': 1, ' csr\"': 1, ' HR Business Partner\"': 1, ' Environmental Ops\"': 1, ' Financial Services\"': 1, ' Payee Programs\"': 1, ' Automotive Support\"': 1, ' RESOURCE COORDINATOR\"': 1, ' Staff Development Coordinator\"': 1, ' Enrollment Solutions \"': 1, ' Website Analysts \"': 1, ' IT Development\"': 1, ' Reporting Operations & Analysis\"': 1, ' Self Contractor\"': 1, ' Protocol\"': 1, ' Power and Signals\"': 1, ' Delivery\"': 1, ' Application Support Bran\"': 1, ' Transmission Grid Operations\"': 1, 'Mold Restoration Tech\"': 1, ' Informatics Supervisor\"': 1, ' Lead hygienist \"': 1, ' Informatics & Financial Analys\"': 1, ' SAP Delivery\"': 1, ' Application Services\"': 1, ' Legal/Executive Services\"': 1, ' Vice President of Sales\"': 1, ' DevOps\"': 1, ' Editor in Chief\"': 1, '  Marketing\"': 1, ' Merrick School of Business\"': 1, 'dept supervisor\"': 1, ' Patient care systems\"': 1, ' America’s \"': 1, ' Data Center Technology\"': 1, ' User Services\"': 1, ' Infection Prevention\"': 1, ' Sustainability Group\"': 1, ' Digital Media Operator\"': 1, ' Training and Development \"': 1, ' Client Operations\"': 1, ' Chief Marketing Officer\"': 1, ' Database Administration\"': 1, ' Financial Management Analyst\"': 1, ' Philadelphia office\"': 1, ' Social Media & Activation\"': 1, ' first officer\"': 1, ' Support Services Division\"': 1, ' Platform Service Strategy\"': 1, ' Data Intelligence\"': 1, ' Esthetician\"': 1, ' service center\"': 1, ' TSC Fort Carson\"': 1, ' Project Administration\"': 1, ' Neurosurgery\"': 1, ' Network Administrator\"': 1, ' Dispute Resolution\"': 1, ' Service and Support\"': 1, ' training services\"': 1, ' IT security\"': 1, ' IS Infrastructure\"': 1, ' Product\"': 1, ' Special Events\"': 1, ' Customer Support\"': 1, ' Factory Operations\"': 1, ' Sales Support\"': 1, ' Environmental Health & Safety\"': 1, ' business development\"': 1, ' CARRT\"': 1, 'food and beverage\"': 1, ' Therapist\"': 1, ' Contract Administration\"': 1, ' Flt and Operational Branch\"': 1, ' Photography\"': 1, ' staff\"': 1, ' Institutional Sales\"': 1, ' JENSEN HUGHES Academy\"': 1, ' HR/Administrative Operations\"': 1, ' Network\"': 1, ' Leadership Development\"': 1, ' OH\"': 1, ' server\"': 1, ' Media Director': 1, ' Emergency Medicine\"': 1, ' Design Manager\"': 1, ' Healthcare\"': 1, ' Business & Finance\"': 1, ' Transfer Admission\"': 1, ' Proposals\"': 1, ' Enterprise Project Management \"': 1, ' Senior Associate\"': 1, ' Service & Capital Market\"': 1, ' Affiliate Partnerships\"': 1, ' National Client Space Insights\"': 1, ' Retoucher\"': 1, ' Finance Operations\"': 1, ' Mediations &Loss Mitigation\"': 1, ' Laborer\"': 1, ' Oregon Reg.\"': 1, ' Applications\"': 1, ' Senior V.P.\"': 1, ' Enterprise Arch\"': 1, ' INTL admission\"': 1, ' of Sales\"': 1, ' Client Support\"': 1, ' Global Derivatives\"': 1, ' Social Media\"': 1, ' Retail Banking\"': 1, ' Fraud Strategy\"': 1, ' Facilities Finance\"': 1, ' Contracting Officer \"': 1, ' Behavioral and Social Sciences\"': 1, ' purchasing\"': 1, ' Medical Staff Services \"': 1, ' Data & Analytics Services\"': 1, ' Client Service\"': 1, ' Business\"': 1, ' Social Media Manager\"': 1, ' Professional Learning\"': 1, ' Drug Safety\"': 1, ' IS\"': 1, ' Patient Transport\"': 1, ' Clinical Data Standards\"': 1, ' Proj. Mngr. \"': 1, ' Visitor Services\"': 1, ' Substation Services\"': 1, ' Market Leader\"': 1, ' Experiential Travel\"': 1, ' Enterprise Services\"': 1, ' Rx Technologies\"': 1, ' Recreational Services \"': 1, ' Speech/Language Pathologist \"': 1, ' Technical Projects\"': 1, ' Software Delivery \"': 1, ' LVN\"': 1, ' Billing & Insurance \"': 1, ' Testing Tech Lead Analyst\"': 1, ' Div of Library Development\"': 1, ' SIO\"': 1, ' Investments\"': 1, ' Owner\"': 1, ' Research Nurses\"': 1, ' Customer Success\"': 1, ' Banking Center Manager\"': 1, ' Dealer\"': 1, ' OCM\"': 1, ' support staff\"': 1, ' FAA DMIR/\"': 1, ' FRONT DESK\"': 1, ' Staff Nurse\"': 1, ' Client Benefits\"': 1, ' Senior Communications Officer\"': 1, ' Cognitive Automation\"': 1, ' supervisor \"': 1, ' Recruiting\"': 1, ' IT Security\"': 1, 'i tear down trains and rebuid th\"': 1, ' Consumer and Recovery Svcs.\"': 1, ' Distribution Operations\"': 1, ' Kauai\"': 1, 'Parts Puller\"': 1, ' finance manager\"': 1, ' Horticulturalist\"': 1, ' Litigation\"': 1, ' Billlings & Accounts Receivable\"': 1, ' Radiology Services\"': 1, ' Revenue Accounting\"': 1, ' Heavy Equipment Operator\"': 1, ' Marketing': 1, ' contractor\"': 1, ' 32 years trailer repair\"': 1, ' LPN\"': 1, ' Information Security \"': 1, ' Visitor Experience\"': 1, ' bartender': 1, ' Global Stock Administration\"': 1, ' Cotton\"': 1, ' Statistical Programming\"': 1, ' Onboarding\"': 1, ' TPA Operations\"': 1, ' PRODUCT\"': 1, ' cook\"': 1, ' MSG\"': 1, ' IT Manager\"': 1, ' Travel Products \"': 1, ' Real Estate Programs\"': 1, ' Market Logistics Management \"': 1, ' Superior Court\"': 1, ' EPM and Analytics\"': 1, ' Medical Director\"': 1, ' Ops\"': 1, ' Mason\"': 1, ' Neurosciences\"': 1, ' Strategy\"': 1, ' Consultant\"': 1, ' Financial Management Center\"': 1, ' Advising & Counseling\"': 1, ' People Business Partners\"': 1, ' Accounts Payables \"': 1, ' Printing Service\"': 1, ' Security Administration\"': 1, ' SVM\"': 1, ' Carpenter\"': 1, ' End Point Engineering\"': 1, ' Alternate Representa\"': 1, ' Opetations\"': 1, ' Payroll & Systems Manager\"': 1, ' Human Research Protection \"': 1, ' Facilities & Admin/Asst to CFO\"': 1, ' Care Coordination Department\"': 1, ' Engineering\"': 1, ' Mobility\"': 1, ' Engineering & Construction\"': 1, ' SECRETARY\"': 1, ' Online and Social Media\"': 1, ' Legal & Business Affairs\"': 1, ' Legal Department\"': 1, ' Records Management\"': 1, ' Supply Chain\"': 1, ' Wounded Warrior Intern Program\"': 1, '  Talent Acquisition\"': 1, ' Foundation\"': 1, ' Institute for Social Prog\"': 1, ' Physician': 1, ' Speech Pathologist\"': 1, ' Government Affairs\"': 1, ' Systems Engineering\"': 1, ' Mission Delivery \"': 1, ' Compliance \"': 1, ' lender\"': 1, ' Digital Marketing \"': 1, ' Enterprise Business Appl\"': 1, ' Project Manager\"': 1, ' manager\"': 1, ' Financial Assessment\"': 1, ' Head Trader\"': 1, ' Team Lead\"': 1, ' HUMAN RESOURCES\"': 1, ' Branch Chief\"': 1, ' Loan Operations\"': 1, ' Customer Success SMB\"': 1, ' in home care giver\"': 1, ' V.P.\"': 1, ' GA': 1, ' Operations \"': 1, ' R&D\"': 1, ' Commercial Enablement\"': 1, ' Healthy Living Cntr\"': 1, ' Specialty Risks\"': 1, ' Web Strategy & Development\"': 1, ' fabricator \"': 1, ' Braille Division\"': 1, ' Business Solutions\"': 1, ' Director of Sales \"': 1, 'mason': 1, 'assambler\"': 1, ' Data Warehouse\"': 1, ' Equal Opportunity Program\"': 1, ' Charge Nurse\"': 1, ' County Fire Authority\"': 1, ' Senior Audit Manager\"': 1, ' HR OPERATIONS & PAYROLL\"': 1, ' Campus Operations\"': 1, ' Lead \"': 1, ' Conflict of Interest Office\"': 1, ' Accounting Operations\"': 1, ' admin assistant\"': 1, ' Security Chief\"': 1, ' Global Compensatio\"': 1, ' Performance\"': 1, ' Information Systems Engineer\"': 1, ' Clinical Lead\"': 1, 'dept\"': 1, ' CSO': 1, ' Client Success\"': 1, ' Council Relations\"': 1, ' Corporate Strategy & Development\"': 1, ' IT Operations\"': 1, ' IT Systems\"': 1, ' National Distribution\"': 1, ' L & E\"': 1, ' Director of Patient Services\"': 1, ' Instructional Design\"': 1, ' Admin Clerical\"': 1, ' Author Relations\"': 1, ' Digital Analytics\"': 1, ' Global Account Managment\"': 1, 'M': 1, ' massage therapist \"': 1, ' Sustainability \"': 1, ' Head of Treasury Services\"': 1, ' Technology Operations\"': 1, 'SVP\"': 1, ' HR Technology\"': 1, ' assistant maintenance\"': 1, ' Windows': 1, ' Co-Director\"': 1, ' Program Operations\"': 1, ' Lending Administration \"': 1, ' Solutions Engineering\"': 1, ' Corporate\"': 1, ' Retail Innovation\"': 1, ' associate professor\"': 1, ' Client Delivery\"': 1, ' speech-language pathologist\"': 1, ' Office of Research Development\"': 1, ' Sales Planning\"': 1, ' Integrated Library Systems\"': 1, ' Customer Engineer\"': 1, ' Content & Programming\"': 1, ' Pharmacist\"': 1, ' RRT\"': 1, ' Marketing and Communications\"': 1, ' Technology & Innovation\"': 1, ' Global Partnerships\"': 1, ' FP&A \"': 1, ' US Partnerships \"': 1, ' Training and Development\"': 1, ' Brand Experience\"': 1, ' Leadership Services\"': 1, ' Volunteer ; HR': 1, ' HEALTH COACH\"': 1, ' iTank Support\"': 1, ' ATU Milieu\"': 1, ' Labor and Operations\"': 1, ' Operational Excellence\"': 1, ' Brand Partnerships \"': 1, ' Showing Agen\"': 1, ' Customer Service/Supply Chain\"': 1, ' Technical Operations\"': 1, ' Accounting Policy Analyst\"': 1, ' Information Delivery\"': 1, ' Info System Security Analyst\"': 1, ' Program Faculty\"': 1, ' Franchise Services\"': 1, ' Consulting\"': 1, ' Digital Engineering Manager\"': 1, ' Training & Communication\"': 1, ' HR - Entertainment\"': 1, ' Strategic Planning \"': 1, ' Guest Services and Hospitality\"': 1, ' Kazakh Language&TS\"': 1, ' NV': 1, ' Student Financial Services\"': 1, ' Coding\"': 1, ' Biomedical Emgineering\"': 1, ' Research Operations\"': 1, ' Project Management Office\"': 1, ' HR & Chief Diversity Officer\"': 1, ' Sr. Underwriter\"': 1, ' foreman \"': 1, ' Marketing Research\"': 1, ' Capital Finance\"': 1, ' Marketing Director\"': 1, ' Reinsurance\"': 1, ' Finance & Investments\"': 1, ' Talent Acquisition Manager\"': 1, ' ACCOUNTING SPECIALIST\"': 1, ' Strategic Accounts\"': 1, ' General Affairs\"': 1, ' Palmdale Center\"': 1, ' Performance Analysis\"': 1, ' External Relations\"': 1, ' Artist': 1, ' Advisor Services\"': 1, ' Sales and Service\"': 1, ' Hosp/Clinics\"': 1, ' Budgets & Contracts\"': 1, ' Library\"': 1, ' media services\"': 1, ' Sales Operations\"': 1, ' Counsel\"': 1, ' Participant Services\"': 1, ' Airborne Systems\"': 1, ' HR Administration\"': 1, ' insurance \"': 1, ' Environmental Field Services\"': 1, ' VP Consulting\"': 1, ' Investment Team\"': 1, ' Procurement Operations Division\"': 1, ' Fedepal Compliance Mgt Svcs Gr\"': 1, ' Chargemaster\"': 1, ' compensation \"': 1, ' Business Architect\"': 1, ' PO/RI & Foreclosure Payables Manager\"': 1, ' Administration\"': 1, ' College Credit Plus\"': 1, ' Process Maintenance\"': 1, ' Retail Training\"': 1, ' Ocular Services\"': 1, ' Food Pantry\"': 1, ' PARTNER\"': 1, ' Student Finance\"': 1, ' Clinical Team Manager\"': 1, ' Route Driver\"': 1, '  Learning and Development\"': 1, ' National Operati\"': 1, ' Service Delivery\"': 1, ' Manufacturing Engineering\"': 1, ' GIS\"': 1, ' IT Client Services\"': 1, ' Off. of Profession\"': 1, ' Market Manager\"': 1, ' NonInvasive Cardiology\"': 1, ' Software Architecture\"': 1, ' Consulting & Investigations\"': 1, ' Renal Specialist\"': 1, 'Clinical Resear\"': 1, ' Clinical Coordinator \"': 1, ' Org Development & Training\"': 1, ' IT support center\"': 1, ' Global Leadership Team\"': 1, ' Systems Analysis\"': 1, '  Analyst\"': 1, ' Program Quality & Innovation\"': 1, ' Digital Assessment Platform\"': 1, ' OB/GYN\"': 1, ' Fixed Assets Acctg\"': 1, ' property manager\"': 1, ' special education\"': 1, ' Donor Resources\"': 1, ' Mobile Secure Transactions\"': 1, ' Clinical Analytics\"': 1, ' Construction Services\"': 1, ' Imaging\"': 1, ' Supply Chain & OPS\"': 1, ' Implementations and Professiona\"': 1, ' Interpretation\"': 1, ' CSP\"': 1, ' Consumer Communications\"': 1, ' Operations Division\"': 1, ' Windows Support\"': 1, ' Clinical Knowledge Integration\"': 1, ' BPM\"': 1, ' EAP\"': 1, 'Academic Administrative Support\"': 1, ' HR Operations & Payroll\"': 1, ' FAMILY MEDICINE\"': 1, ' Sales Manager\"': 1, ' Compliance & Sustainability \"': 1, ' supervisor\"': 1, ' Global Product\"': 1, ' Central Region\"': 1, ' Installations\"': 1, ' Street Dep\"': 1, ' Int\\'l Operations & Administration\"': 1, ' Security and Police Operations\"': 1, ' Manpower Integration Branch - 2\"': 1, ' Sample Operations \"': 1, ' Clinical Data Management \"': 1, ' Engineering Departmn\"': 1, ' LLC\"': 1, ' SBA Branch Liaison \"': 1, ' Business Unit Leader\"': 1, ' STRATEGIC SOURCING & PURCHASIN\"': 1, ' Volunteer Programs\"': 1, ' Shoals Outreach Office\"': 1, ' Clinical Operations\"': 1, ' Sponsorship & Exp. Marketing\"': 1, ' Human Research\"': 1, ' Campus and Athletics Business\"': 1, ' Compliance Testing\"': 1, ' QI and Planning\"': 1, ' RIGHTS MANAGEMENT\"': 1, ' Customer Communication\"': 1, ' Medication Intake \"': 1, ' Finance- SBS\"': 1, ' IP coordinator\"': 1, ' waiter\"': 1, ' Gym Teacher\"': 1, ' Surgery Physician Assistants\"': 1, ' Dentist\"': 1, ' Research and Development\"': 1, ' Consumer Risk\"': 1, ' bookkeeper\"': 1, ' Patient Accounts\"': 1, ' Global IT & CiSO\"': 1, ' Partnership Development\"': 1, ' Digital Marketing Services\"': 1, ' rpsgt\"': 1, ' Solutions Management\"': 1, ' Conslt Apps Programmer\"': 1, ' Contact Center Operations \"': 1, ' Software License Management\"': 1, ' CS & Training\"': 1, ' Registered Nurse \"': 1, ' Program Specialist\"': 1, ' IC\"': 1, ' Early College\"': 1, ' Lamination Dep\"': 1, ' Health Coach\"': 1, ' Campus Recreation\"': 1, ' FCCompliance\"': 1, ' Claims Manager\"': 1, ' Sr. Analyst \"': 1, ' Practice Analysis\"': 1, ' Marketing & Communications\"': 1, ' Engineering \"': 1, ' Office of Conferences': 1, ' D&I Proj. Lead\"': 1, ' Audiology & Speech Pathology\"': 1, ' Special Police Officer\"': 1, ' Network Tools and Automation\"': 1, ' Health Info Systems\"': 1, 'Software\"': 1, ' Philanthropy\"': 1, ' SALES AND OPERATIONS\"': 1, ' PMO\"': 1, ' Procurement Specialist\"': 1, ' Production\"': 1, ' HIM / Coding\"': 1, ' ADON\"': 1, ' Cosmetic': 1, ' Ad Operations\"': 1, ' Banking Officer\"': 1, ' IT Security Operations\"': 1, ' Bartender\"': 1, ' OPERATIONS\"': 1, ' Marketing & Digital Banking\"': 1, ' Data Management Architect\"': 1, ' Utility Communications\"': 1, ' infrastructure engineering \"': 1, 'BSN-BC\"': 1, ' Counselor \"': 1, ' Claims Litigation\"': 1, ' Cost Accounting\"': 1, ' Tech\"': 1, ' Carpet/Yarn ShopFloor Systems\"': 1, ' driver\"': 1, ' Expense Administration\"': 1, ' Financial Reporting\"': 1, ' deliver new RV\\'s\"': 1, ' Cons. Prod Strategy \"': 1, ' Sports Betting\"': 1, ' Strategic Helium Sourcing\"': 1, ' lead tech\"': 1, ' Media\"': 1, ' Btrand Protection\"': 1, ' Asset Valuations and Analytic\"': 1, ' Package Operations\"': 1, ' Clinical Operations \"': 1, ' Loan Servicing Manager\"': 1, ' Individual Homeless Adults\"': 1, ' Search Platforms\"': 1, ' Field Services Training & Deve\"': 1, ' Marketing & Research\"': 1, ' Employee Benefits Account Manager\"': 1, ' Acquisitions\"': 1, ' QA2\"': 1, ' Enrollment  Specialist\"': 1, ' Chemical Biology\"': 1, ' Innovation\"': 1, ' Collections department\"': 1, ' operator': 1, ' Design Assurance Engineering\"': 1, ' Logistics & Field Services\"': 1, ' Organizational Development\"': 1, ' Data Services\"': 1, ' Air Terminal Operations\"': 1, ' COML/CONS SERVICE SENIOR ADMINISTOR\"': 1, 'People Development & Performance\"': 1, ' Technical Training\"': 1, ' New Member Acquisition\"': 1, ' Asia Region\"': 1, ' LMHC\"': 1, ' Product Support\"': 1, ' DELMIA\"': 1, ' Consulting Services\"': 1, ' Standards\"': 1, 'Hostess': 1, ' Taxation\"': 1, ' Manager\"': 1, ' Field Office\"': 1, ' Special Events \"': 1, ' Capital Markets Credit\"': 1, ' Enterprise Systems \"': 1, ' CSPI\"': 1, ' Safety & Compliance manager\"': 1, ' 230 Appleton Pl': 1, ' Advisory Services\"': 1, ' Store Services\"': 1, ' Digital\"': 1, ' Assistant Professor\"': 1, ' Coaching and Connections\"': 1, ' Consumer Direct\"': 1, ' Public Relation\"': 1, ' Lamp repair \"': 1, ' Technology and Security\"': 1, ' Mill OM\"': 1, ' Quality\"': 1, ' GS-07\"': 1, ' Information Systems\"': 1, ' Affiliated Graduate Psychology\"': 1, ' Administrator\"': 1, ' Talent & Culture\"': 1, ' Financial Accounting\"': 1, ' Inventory Control\"': 1, ' risk management\"': 1, ' Front End \"': 1, ' CFOO\"': 1, ' Professional Liability\"': 1, 'Purchasing Manager': 1, ' Health & Human Services\"': 1, ' COA Accounting\"': 1, ' NC3 Communication Division\"': 1, ' Brand & Product Education\"': 1, ' Applications Labs\"': 1, ' Electrician\"': 1, ' Events Production \"': 1, ' USA West\"': 1, ' ES\"': 1, ' Cloud Operations\"': 1, ' Tech Prod Consult\"': 1, ' Tutoring and Mentoring\"': 1, ' Trainer\"': 1, ' Department Education\"': 1, ' Bus driver': 1, ' Legal Compliance\"': 1, ' Communications \"': 1, ' Airframe Power plants Mecha\"': 1, ' Public Health Nurse\"': 1, ' Network Operations\"': 1, ' Specialty Leasing\"': 1, ' Governance': 1, ' NCP\"': 1, ' Enterprise Systems and Service\"': 1, ' Circuit Clerk\\'s Office\"': 1, ' Product Support Group\"': 1, ' diesal technician\"': 1, ' TENNIHET\"': 1, ' Reservations & Informal Rec\"': 1, ' ( certified Professional Coder ) \"': 1, ' Customer Solutions Specialist\"': 1, ' Sr Ops Analyst\"': 1, ' 3rd Municipal District\"': 1, ' CloudOps\"': 1, ' Global Medical Information\"': 1, ' Program Development\"': 1, ' Smart Grid \"': 1, 'L\\\\3\"': 1, ' DIRECTOR\"': 1, ' machinest': 1, ' facilities director\"': 1, ' elementary schools\"': 1, ' senior & IT director\"': 1, 'assistant manager\"': 1, '  Veteran Advocate\"': 1, ' BCBA\"': 1, ' backup team leader\"': 1, ' Resource Desk\"': 1, ' Online Support Services\"': 1, ' Customer Service Manager\"': 1, ' First Assistant\"': 1, ' hub driver\"': 1, ' Steamfitter\"': 1, ' Special Projects Section\"': 1, ' Institutional Business Development\"': 1, '& Data Coord.\"': 1, ' certified lactation co\"': 1, ' Field Services\"': 1, ' Collections\"': 1, ' Sourcing Strategy\"': 1, ' Wealth Management\"': 1, ' Strategy and Special Proje\"': 1, ' Global Healthcare \"': 1, ' MDS Coordinator\"': 1, ' Mid mgr\"': 1, ' Apps and Integrations\"': 1, ' IT Delivery Operations\"': 1, ' Technology and Training\"': 1, ' Organizational Advancement\"': 1, ' Physical Therapy\"': 1, ' Risk Management\"': 1, ' Payroll Services \"': 1, ' Category Solutions\"': 1, ' Bankruptcy Operations \"': 1, ' Medicaid Financial Consultant \"': 1, ' Strategic Marketing\"': 1, ' Outcomes Management\"': 1, ' School of Music\"': 1, ' Driver\"': 1, ' Records and Privacy Analyst\"': 1, ' IT Analysis\"': 1, ' Major\"': 1, ' DPT\"': 1, ' Proposals \"': 1, ' International Mktng & Tech Sales\"': 1, ' LVN': 1, ' San Francisco Bay Area\"': 1, ' Trading & Operations\"': 1, ' ADV\"': 1, 'CSR\"': 1, ' IT - Operations\"': 1, ' Single Family\"': 1, ' Health and Welfare Benefits \"': 1, ' Emp & Labor Relation\"': 1, ' Online Media\"': 1, ' Conference Services\"': 1, ' Employee Services\"': 1, ' Hospitalist\"': 1, ' US Oil\"': 1, ' Surgical Services\"': 1, ' Federal Government\"': 1, ' Advertising \"': 1, ' Service Excellence \"': 1, ' programmer\"': 1, ' MEMBER SERVICES\"': 1, ' Batch Control\"': 1, ' Staff Educator\"': 1, ' Corporare Partnerships\"': 1, 'operator\"': 1, ' Production Planning\"': 1, ' Student Engagement\"': 1, ' Operations Manager\"': 1, ' Dept. of Public Work\"': 1, ' Global Sales Operations\"': 1, ' Compute Engineering\"': 1, ' Global Cyber\"': 1, ' Maint\"': 1, ' Mission Support\"': 1, ' Patient Finance\"': 1, ' Customer Operations\"': 1, ' Sales & Customer Service\"': 1, ' Partnership Development \"': 1, ' AIR CONDITIONER TECH\"': 1, ' Special Accounts Unit\"': 1, ' Third Party Risk Manager\"': 1, ' IBX Operations Engine\"': 1, ' NCOIC\"': 1, ' Enterprise and Public Sebto\"': 1, ' Research and Assessment Associate\"': 1, ' Supply Operations\"': 1, ' Product  and Technology\"': 1, ' bakery': 1, ' ophthalmic assistant\"': 1, 'Displays & In-House Creative\"': 1, ' Professional Tennis Mgmt\"': 1, ' Process Improvement\"': 1, ' Litigation and Claims\"': 1, ' Texas Facilities\"': 1, ' vice president\"': 1, ' SOCIAL WORKER\"': 1, ' Public Affairs\"': 1, ' SVP\"': 1, ' Media Sales\"': 1, ' Organizational Resilience \"': 1, ' Manager Payroll\"': 1, ' Trust & Investments\"': 1, ' Search Engine Marketing\"': 1, ' Security and Compliance\"': 1, ' AV Media\"': 1, ' Human Resource Specialist\"': 1, ' Reg.  Business Controls Mgr.\"': 1, ' Engagement Management\"': 1, ' Business Management Branch\"': 1, ' Development \"': 1, ' onsite at Google\"': 1, ' Student and Data Systems\"': 1, ' E.I.\"': 1, 'prep cook\"': 1, ' Ld\"': 1, ' Product Lifecycle\"': 1, ' Threat Intelligence\"': 1, ' Property\"': 1, ' auto detailing\"': 1, ' e-commerce associate\"': 1, ' Compliance Training\"': 1, ' Policy': 1, ' Information Technology \"': 1, 'bellman': 1, ' Talent Management\"': 1, ' CFO\"': 1, ' Decision Support\"': 1, ' Legal Services\"': 1, ' International insurance\"': 1, ' Marketing & Sales\"': 1, ' SOAR\"': 1, ' Healthcare Tech. Mngmt. Imaging\"': 1, ' Media Strategy\"': 1, ' PVC\"': 1, ' medical assistant\"': 1, ' Director of Insurance\"': 1, '  IT Administration\"': 1, ' Consumer Banking\"': 1, ' Underwriting\"': 1, ' Team Leader': 1, ' maintenance': 1, ' Dept Chair\"': 1, ' Corporate and Business Development\"': 1, ' customer service\"': 1, ' Minister of Music\"': 1, ' Spc Project/Clinical Services\"': 1, ' corporate communications\"': 1, ' IS Audit\"': 1, ' Charitable Giving\"': 1, ' Marketing Specialist \"': 1, ' Services Branch 1\"': 1, ' Director of Operations\"': 1, ' Master\"': 1, ' School Programs\"': 1, ' Brand Strategy\"': 1, ' Member Relations\"': 1, ' Northeast Region\"': 1, ' Public Policy & Comm\"': 1, ' Business Systems Infrastructure\"': 1, ' M&E\"': 1, ' East\"': 1, ' Compliance Programs\"': 1, ' Demand Generation\"': 1, ' Membership Operations & Events\"': 1, ' Service line mgr\"': 1, ' Workforce Planning\"': 1, ' Public Policy and Research\"': 1, ' Logisitics Specialist\"': 1, ' Franchise Operations\"': 1, ' Health Management Nurse': 1, ' 2nd Grade\"': 1, 'LLC\"': 1, ' 1st Lt\"': 1, ' Talent Engagement\"': 1, 'Technical Specialist \"': 1, ' Quality and Training\"': 1, ' Associate Director\"': 1, ' Bakery Department\"': 1, ' consultant nurse\"': 1, ' Corporate Social Responsibility\"': 1, ' Cultoral Arts \"': 1, ' TRAINING & CULTURE\"': 1, ' Mental Health Dept\"': 1, 'AVP\"': 1, ' Servers and Support\"': 1, ' Behavioral Health & Care Mgmt\"': 1, ' Network Operations \"': 1, ' Ecommerce\"': 1, ' surgery scheduler\"': 1, ' Internal Audit & Compliance\"': 1, ' Enterprise Credit Policy\"': 1, ' HSIS Dept\"': 1, ' Technology Solutions\"': 1, ' Cal Technologies\"': 1, ' Assistant': 1, ' AA Personnel Admin\"': 1, ' Commercial Rep\"': 1, ' Nuclear\"': 1, ' Testing\"': 1, ' Learning & Org. Development\"': 1, ' Machinery Techn\"': 1, ' Regional Corporate Relatio\"': 1, ' Care\"': 1, ' Regulatory Compliance\"': 1, ' People Strategy and Operations\"': 1, ' TRS Client Operations Manager\"': 1, ' Marketing and Communications \"': 1, ' Manager Operations\"': 1, ' Pricing\"': 1, ' Medical Education \"': 1, ' Speech pathology\"': 1, ' Finance/Admin/Purchasing \"': 1, ' Technical\"': 1, ' Support\"': 1, ' Solution Architecture\"': 1, ' Warehouse work\"': 1, ' Grocery\"': 1, ' Continuing Legal Education\"': 1, ' Counseling & Guidance\"': 1, ' Instructional Support\"': 1, ' Corporate Security & Insurance\"': 1, ' Medicare Marketing Development\"': 1, ' Revenue Management\"': 1, ' R.D.A.\"': 1, ' Senio IFA\"': 1, ' Data Science \"': 1, ' Energy Management\"': 1, ' Trainer \"': 1, ' CRWP\"': 1, ' Planning & Operation\"': 1, ' Process Engineer\"': 1, ' Business Affairs\"': 1, ' Lt Col (0-5)\"': 1, ' medical director\"': 1, ' Alumni Relations\"': 1, 'medical assistant \"': 1, ' Customer Training\"': 1, ' Cloud Delivery\"': 1, ' Bugdet Execution\"': 1, ' Graduate Studies\"': 1, ' Security\"': 1, ' Material Control\"': 1, ' IT Services\"': 1, ' Analysis\"': 1, ' Head Tech': 1}\n"
     ]
    }
   ],
   "source": [
    "# Count Every data in the emp_length column\n",
    "print(dict(loan_dataset['emp_length'].value_counts()))"
   ]
  },
  {
   "cell_type": "code",
   "execution_count": 15,
   "metadata": {},
   "outputs": [],
   "source": [
    "# Because we are already handle the null value, we dont have to worry about it anymore\n",
    "# We only want the \"[...] years\", so we can start from the first value until the 9 years value\n",
    "loan_dataset = loan_dataset[loan_dataset.groupby('emp_length').emp_length.transform('count') > 3225]"
   ]
  },
  {
   "cell_type": "code",
   "execution_count": 16,
   "metadata": {},
   "outputs": [
    {
     "data": {
      "text/plain": [
       "array(['10+ years', '6 years', '4 years', '< 1 year', '2 years',\n",
       "       '9 years', '5 years', '3 years', '7 years', '1 year', '8 years'],\n",
       "      dtype=object)"
      ]
     },
     "execution_count": 16,
     "metadata": {},
     "output_type": "execute_result"
    }
   ],
   "source": [
    "# Check emp_length column\n",
    "loan_dataset['emp_length'].unique()"
   ]
  },
  {
   "cell_type": "code",
   "execution_count": 17,
   "metadata": {},
   "outputs": [],
   "source": [
    "loan_dataset['emp_length'] = loan_dataset['emp_length'].map(lambda x: x.rstrip('years'))"
   ]
  },
  {
   "cell_type": "code",
   "execution_count": 18,
   "metadata": {},
   "outputs": [],
   "source": [
    "def categorizing_data(cell):\n",
    "    if str(cell) == \"10+ \":\n",
    "        return \"> 10\"\n",
    "    elif cell == \"< 1 \":\n",
    "        return \"< 1\"\n",
    "    elif cell in ['1 ','2 ', '3 ', '4 ', '5 ']:\n",
    "        return \" 1-5\"\n",
    "    elif cell in ['6 ', '7 ', '8 ', '9 ']:\n",
    "        return \" 6-10\"\n",
    "    else:\n",
    "        return \"0\"\n",
    "\n",
    "loan_dataset['emp_length'] = loan_dataset.apply(lambda cell: categorizing_data(cell.emp_length), axis=1)"
   ]
  },
  {
   "cell_type": "code",
   "execution_count": 19,
   "metadata": {},
   "outputs": [
    {
     "name": "stdout",
     "output_type": "stream",
     "text": [
      "['> 10' ' 6-10' ' 1-5' '< 1']\n"
     ]
    }
   ],
   "source": [
    "print(loan_dataset['emp_length'].unique())"
   ]
  },
  {
   "cell_type": "code",
   "execution_count": 20,
   "metadata": {},
   "outputs": [
    {
     "data": {
      "text/plain": [
       "array(['Current', 'Fully Paid', 'Late (31-120 days)', 'In Grace Period',\n",
       "       'Charged Off', 'Late (16-30 days)', 'Fulli Paid', 'Full Paid',\n",
       "       'Curren', 'Curent'], dtype=object)"
      ]
     },
     "execution_count": 20,
     "metadata": {},
     "output_type": "execute_result"
    }
   ],
   "source": [
    "# Check another column (loan_status)\n",
    "loan_dataset['loan_status'].unique()"
   ]
  },
  {
   "cell_type": "code",
   "execution_count": 21,
   "metadata": {},
   "outputs": [],
   "source": [
    "loan_dataset.loc[loan_dataset['loan_status'].str.contains('Curren|Curent'), 'loan_status'] = 'Current'\n",
    "loan_dataset.loc[loan_dataset['loan_status'].str.contains('Fulli Paid|Full Paid'), 'loan_status'] = 'Fully Paid'\n",
    "loan_dataset.loc[loan_dataset['loan_status'].str.contains('Nov-18|Oct-18|Sep-18|Dec-18|3200'), 'loan_status'] = loan_dataset['loan_status'].mode()[0]"
   ]
  },
  {
   "cell_type": "code",
   "execution_count": 22,
   "metadata": {},
   "outputs": [
    {
     "data": {
      "text/plain": [
       "array(['Current', 'Fully Paid', 'Late (31-120 days)', 'In Grace Period',\n",
       "       'Charged Off', 'Late (16-30 days)'], dtype=object)"
      ]
     },
     "execution_count": 22,
     "metadata": {},
     "output_type": "execute_result"
    }
   ],
   "source": [
    "# Check result for loan_status\n",
    "loan_dataset['loan_status'].unique()"
   ]
  },
  {
   "cell_type": "code",
   "execution_count": 23,
   "metadata": {},
   "outputs": [],
   "source": [
    "# Remove months from term column and change the column dtype\n",
    "loan_dataset['term'] = loan_dataset['term'].map(lambda x: x.rstrip('months'))\n",
    "loan_dataset['term'] = pd.to_numeric(loan_dataset['term'])"
   ]
  },
  {
   "cell_type": "code",
   "execution_count": 24,
   "metadata": {},
   "outputs": [],
   "source": [
    "# Change annual_inc dtype\n",
    "loan_dataset['annual_inc'] = pd.to_numeric(loan_dataset['annual_inc'])"
   ]
  },
  {
   "cell_type": "code",
   "execution_count": 25,
   "metadata": {},
   "outputs": [
    {
     "name": "stdout",
     "output_type": "stream",
     "text": [
      "loan_status        object\n",
      "loan_amnt           int64\n",
      "int_rate          float64\n",
      "grade              object\n",
      "emp_length         object\n",
      "home_ownership     object\n",
      "annual_inc        float64\n",
      "term                int64\n",
      "dtype: object\n"
     ]
    }
   ],
   "source": [
    "print(loan_dataset.dtypes)"
   ]
  },
  {
   "cell_type": "code",
   "execution_count": 26,
   "metadata": {},
   "outputs": [
    {
     "name": "stdout",
     "output_type": "stream",
     "text": [
      "loan_amnt     13600.00\n",
      "int_rate          7.68\n",
      "annual_inc    51000.00\n",
      "term             24.00\n",
      "dtype: float64\n"
     ]
    }
   ],
   "source": [
    "# Check outlier data\n",
    "Q1 = loan_dataset.quantile(0.25)\n",
    "Q3 = loan_dataset.quantile(0.75)\n",
    "IQR = Q3 - Q1\n",
    "print(IQR)"
   ]
  },
  {
   "cell_type": "code",
   "execution_count": 28,
   "metadata": {},
   "outputs": [
    {
     "data": {
      "text/plain": [
       "(140206, 8)"
      ]
     },
     "execution_count": 28,
     "metadata": {},
     "output_type": "execute_result"
    }
   ],
   "source": [
    "# Clear outlier data from dataset\n",
    "loan_dataset = loan_dataset[~((loan_dataset < (Q1 - 1.5 * IQR)) |(loan_dataset > (Q3 + 1.5 * IQR))).any(axis=1)]\n",
    "loan_dataset.shape"
   ]
  },
  {
   "cell_type": "code",
   "execution_count": 29,
   "metadata": {},
   "outputs": [
    {
     "data": {
      "text/html": [
       "<div>\n",
       "<style scoped>\n",
       "    .dataframe tbody tr th:only-of-type {\n",
       "        vertical-align: middle;\n",
       "    }\n",
       "\n",
       "    .dataframe tbody tr th {\n",
       "        vertical-align: top;\n",
       "    }\n",
       "\n",
       "    .dataframe thead th {\n",
       "        text-align: right;\n",
       "    }\n",
       "</style>\n",
       "<table border=\"1\" class=\"dataframe\">\n",
       "  <thead>\n",
       "    <tr style=\"text-align: right;\">\n",
       "      <th></th>\n",
       "      <th>loan_status</th>\n",
       "      <th>loan_amnt</th>\n",
       "      <th>int_rate</th>\n",
       "      <th>grade</th>\n",
       "      <th>emp_length</th>\n",
       "      <th>home_ownership</th>\n",
       "      <th>annual_inc</th>\n",
       "      <th>term</th>\n",
       "    </tr>\n",
       "  </thead>\n",
       "  <tbody>\n",
       "    <tr>\n",
       "      <th>0</th>\n",
       "      <td>Current</td>\n",
       "      <td>2500</td>\n",
       "      <td>13.56</td>\n",
       "      <td>C</td>\n",
       "      <td>&gt; 10</td>\n",
       "      <td>RENT</td>\n",
       "      <td>55000.0</td>\n",
       "      <td>36</td>\n",
       "    </tr>\n",
       "    <tr>\n",
       "      <th>1</th>\n",
       "      <td>Current</td>\n",
       "      <td>30000</td>\n",
       "      <td>18.94</td>\n",
       "      <td>D</td>\n",
       "      <td>&gt; 10</td>\n",
       "      <td>MORTGAGE</td>\n",
       "      <td>90000.0</td>\n",
       "      <td>60</td>\n",
       "    </tr>\n",
       "    <tr>\n",
       "      <th>2</th>\n",
       "      <td>Current</td>\n",
       "      <td>5000</td>\n",
       "      <td>17.97</td>\n",
       "      <td>D</td>\n",
       "      <td>6-10</td>\n",
       "      <td>MORTGAGE</td>\n",
       "      <td>59280.0</td>\n",
       "      <td>36</td>\n",
       "    </tr>\n",
       "    <tr>\n",
       "      <th>3</th>\n",
       "      <td>Current</td>\n",
       "      <td>4000</td>\n",
       "      <td>18.94</td>\n",
       "      <td>D</td>\n",
       "      <td>&gt; 10</td>\n",
       "      <td>MORTGAGE</td>\n",
       "      <td>92000.0</td>\n",
       "      <td>36</td>\n",
       "    </tr>\n",
       "    <tr>\n",
       "      <th>4</th>\n",
       "      <td>Current</td>\n",
       "      <td>30000</td>\n",
       "      <td>16.14</td>\n",
       "      <td>C</td>\n",
       "      <td>&gt; 10</td>\n",
       "      <td>MORTGAGE</td>\n",
       "      <td>57250.0</td>\n",
       "      <td>60</td>\n",
       "    </tr>\n",
       "  </tbody>\n",
       "</table>\n",
       "</div>"
      ],
      "text/plain": [
       "  loan_status  loan_amnt  int_rate grade emp_length home_ownership  \\\n",
       "0     Current       2500     13.56     C       > 10           RENT   \n",
       "1     Current      30000     18.94     D       > 10       MORTGAGE   \n",
       "2     Current       5000     17.97     D       6-10       MORTGAGE   \n",
       "3     Current       4000     18.94     D       > 10       MORTGAGE   \n",
       "4     Current      30000     16.14     C       > 10       MORTGAGE   \n",
       "\n",
       "   annual_inc  term  \n",
       "0     55000.0    36  \n",
       "1     90000.0    60  \n",
       "2     59280.0    36  \n",
       "3     92000.0    36  \n",
       "4     57250.0    60  "
      ]
     },
     "execution_count": 29,
     "metadata": {},
     "output_type": "execute_result"
    }
   ],
   "source": [
    "# get view of data after cleansing\n",
    "loan_dataset.head()"
   ]
  },
  {
   "cell_type": "code",
   "execution_count": 30,
   "metadata": {},
   "outputs": [
    {
     "data": {
      "text/html": [
       "<div>\n",
       "<style scoped>\n",
       "    .dataframe tbody tr th:only-of-type {\n",
       "        vertical-align: middle;\n",
       "    }\n",
       "\n",
       "    .dataframe tbody tr th {\n",
       "        vertical-align: top;\n",
       "    }\n",
       "\n",
       "    .dataframe thead th {\n",
       "        text-align: right;\n",
       "    }\n",
       "</style>\n",
       "<table border=\"1\" class=\"dataframe\">\n",
       "  <thead>\n",
       "    <tr style=\"text-align: right;\">\n",
       "      <th></th>\n",
       "      <th>loan_status</th>\n",
       "      <th>loan_amnt</th>\n",
       "      <th>int_rate</th>\n",
       "      <th>grade</th>\n",
       "      <th>emp_length</th>\n",
       "      <th>home_ownership</th>\n",
       "      <th>annual_inc</th>\n",
       "      <th>term</th>\n",
       "    </tr>\n",
       "  </thead>\n",
       "  <tbody>\n",
       "    <tr>\n",
       "      <th>149994</th>\n",
       "      <td>Current</td>\n",
       "      <td>9000</td>\n",
       "      <td>11.55</td>\n",
       "      <td>B</td>\n",
       "      <td>&gt; 10</td>\n",
       "      <td>RENT</td>\n",
       "      <td>53000.0</td>\n",
       "      <td>36</td>\n",
       "    </tr>\n",
       "    <tr>\n",
       "      <th>149995</th>\n",
       "      <td>In Grace Period</td>\n",
       "      <td>7000</td>\n",
       "      <td>6.67</td>\n",
       "      <td>A</td>\n",
       "      <td>&gt; 10</td>\n",
       "      <td>OWN</td>\n",
       "      <td>34000.0</td>\n",
       "      <td>36</td>\n",
       "    </tr>\n",
       "    <tr>\n",
       "      <th>149996</th>\n",
       "      <td>Current</td>\n",
       "      <td>25525</td>\n",
       "      <td>19.92</td>\n",
       "      <td>D</td>\n",
       "      <td>1-5</td>\n",
       "      <td>RENT</td>\n",
       "      <td>76000.0</td>\n",
       "      <td>36</td>\n",
       "    </tr>\n",
       "    <tr>\n",
       "      <th>149997</th>\n",
       "      <td>Late (31-120 days)</td>\n",
       "      <td>25000</td>\n",
       "      <td>10.08</td>\n",
       "      <td>B</td>\n",
       "      <td>&lt; 1</td>\n",
       "      <td>RENT</td>\n",
       "      <td>80000.0</td>\n",
       "      <td>60</td>\n",
       "    </tr>\n",
       "    <tr>\n",
       "      <th>149998</th>\n",
       "      <td>Current</td>\n",
       "      <td>18000</td>\n",
       "      <td>23.40</td>\n",
       "      <td>E</td>\n",
       "      <td>1-5</td>\n",
       "      <td>MORTGAGE</td>\n",
       "      <td>156000.0</td>\n",
       "      <td>36</td>\n",
       "    </tr>\n",
       "  </tbody>\n",
       "</table>\n",
       "</div>"
      ],
      "text/plain": [
       "               loan_status  loan_amnt  int_rate grade emp_length  \\\n",
       "149994             Current       9000     11.55     B       > 10   \n",
       "149995     In Grace Period       7000      6.67     A       > 10   \n",
       "149996             Current      25525     19.92     D        1-5   \n",
       "149997  Late (31-120 days)      25000     10.08     B        < 1   \n",
       "149998             Current      18000     23.40     E        1-5   \n",
       "\n",
       "       home_ownership  annual_inc  term  \n",
       "149994           RENT     53000.0    36  \n",
       "149995            OWN     34000.0    36  \n",
       "149996           RENT     76000.0    36  \n",
       "149997           RENT     80000.0    60  \n",
       "149998       MORTGAGE    156000.0    36  "
      ]
     },
     "execution_count": 30,
     "metadata": {},
     "output_type": "execute_result"
    }
   ],
   "source": [
    "loan_dataset.tail()"
   ]
  },
  {
   "cell_type": "code",
   "execution_count": 31,
   "metadata": {},
   "outputs": [
    {
     "data": {
      "text/plain": [
       "<function matplotlib.pyplot.show(*args, **kw)>"
      ]
     },
     "execution_count": 31,
     "metadata": {},
     "output_type": "execute_result"
    },
    {
     "data": {
      "image/png": "[encoded data removed]",
      "text/plain": [
       "<Figure size 432x288 with 1 Axes>"
      ]
     },
     "metadata": {
      "needs_background": "light"
     },
     "output_type": "display_data"
    }
   ],
   "source": [
    "fig = plt.figure()\n",
    "plt.boxplot(loan_dataset['loan_amnt'])\n",
    "plt.show"
   ]
  },
  {
   "cell_type": "code",
   "execution_count": 32,
   "metadata": {},
   "outputs": [
    {
     "data": {
      "text/plain": [
       "<function matplotlib.pyplot.show(*args, **kw)>"
      ]
     },
     "execution_count": 32,
     "metadata": {},
     "output_type": "execute_result"
    },
    {
     "data": {
      "image/png": "[encoded data removed]",
      "text/plain": [
       "<Figure size 432x288 with 1 Axes>"
      ]
     },
     "metadata": {
      "needs_background": "light"
     },
     "output_type": "display_data"
    }
   ],
   "source": [
    "fig = plt.figure()\n",
    "plt.boxplot(loan_dataset['int_rate'])\n",
    "plt.show"
   ]
  },
  {
   "cell_type": "code",
   "execution_count": 33,
   "metadata": {},
   "outputs": [
    {
     "data": {
      "text/plain": [
       "<function matplotlib.pyplot.show(*args, **kw)>"
      ]
     },
     "execution_count": 33,
     "metadata": {},
     "output_type": "execute_result"
    },
    {
     "data": {
      "image/png": "[encoded data removed]",
      "text/plain": [
       "<Figure size 432x288 with 1 Axes>"
      ]
     },
     "metadata": {
      "needs_background": "light"
     },
     "output_type": "display_data"
    }
   ],
   "source": [
    "fig = plt.figure()\n",
    "plt.boxplot(loan_dataset['annual_inc'])\n",
    "plt.show       "
   ]
  },
  {
   "cell_type": "code",
   "execution_count": 34,
   "metadata": {},
   "outputs": [
    {
     "data": {
      "text/plain": [
       "<function matplotlib.pyplot.show(*args, **kw)>"
      ]
     },
     "execution_count": 34,
     "metadata": {},
     "output_type": "execute_result"
    },
    {
     "data": {
      "image/png": "[encoded data removed]",
      "text/plain": [
       "<Figure size 432x288 with 1 Axes>"
      ]
     },
     "metadata": {
      "needs_background": "light"
     },
     "output_type": "display_data"
    }
   ],
   "source": [
    "fig = plt.figure()\n",
    "plt.boxplot(loan_dataset['term'])\n",
    "plt.show"
   ]
  },
  {
   "cell_type": "code",
   "execution_count": 35,
   "metadata": {},
   "outputs": [],
   "source": [
    "loan_dataset.to_csv('cleaned.csv', index = None, header = True)"
   ]
  }
 ],
 "metadata": {
  "kernelspec": {
   "display_name": "Python 3",
   "language": "python",
   "name": "python3"
  },
  "language_info": {
   "codemirror_mode": {
    "name": "ipython",
    "version": 3
   },
   "file_extension": ".py",
   "mimetype": "text/x-python",
   "name": "python",
   "nbconvert_exporter": "python",
   "pygments_lexer": "ipython3",
   "version": "3.8.3"
  }
 },
 "nbformat": 4,
 "nbformat_minor": 4
}
