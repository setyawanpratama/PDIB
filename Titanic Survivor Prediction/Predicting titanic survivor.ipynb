{
 "cells": [
  {
   "cell_type": "code",
   "execution_count": 1,
   "metadata": {},
   "outputs": [],
   "source": [
    "import pandas as pd\n",
    "from sklearn.ensemble import RandomForestRegressor\n",
    "from sklearn.impute import SimpleImputer\n",
    "from sklearn.preprocessing import LabelEncoder\n",
    "from sklearn.metrics import mean_absolute_error\n",
    "from xgboost import XGBRegressor"
   ]
  },
  {
   "cell_type": "code",
   "execution_count": 2,
   "metadata": {},
   "outputs": [],
   "source": [
    "train_d = pd.read_csv('./train.csv')\n",
    "test_d = pd.read_csv('./test.csv')"
   ]
  },
  {
   "cell_type": "code",
   "execution_count": 3,
   "metadata": {},
   "outputs": [
    {
     "data": {
      "text/plain": [
       "Index(['PassengerId', 'Survived', 'Pclass', 'Name', 'Sex', 'Age', 'SibSp',\n",
       "       'Parch', 'Ticket', 'Fare', 'Cabin', 'Embarked'],\n",
       "      dtype='object')"
      ]
     },
     "execution_count": 3,
     "metadata": {},
     "output_type": "execute_result"
    }
   ],
   "source": [
    "train_d.columns"
   ]
  },
  {
   "cell_type": "code",
   "execution_count": 4,
   "metadata": {},
   "outputs": [],
   "source": [
    "y = train_d.Survived\n",
    "features = ['Pclass', 'Sex', 'Age','SibSp','Parch','Fare','Embarked']\n",
    "X = train_d[features]\n",
    "X_valid = test_d[features]"
   ]
  },
  {
   "cell_type": "code",
   "execution_count": 5,
   "metadata": {},
   "outputs": [
    {
     "name": "stdout",
     "output_type": "stream",
     "text": [
      "['Age', 'Embarked']\n",
      "['Age', 'Fare']\n"
     ]
    }
   ],
   "source": [
    "# Find collumn with missing value\n",
    "train_miss_cols = [col for col in X.columns\n",
    "                     if X[col].isnull().any()]\n",
    "test_miss_cols = [col for col in X_valid.columns\n",
    "                     if X_valid[col].isnull().any()]\n",
    "print(train_miss_cols)\n",
    "print(test_miss_cols)"
   ]
  },
  {
   "cell_type": "code",
   "execution_count": 6,
   "metadata": {},
   "outputs": [
    {
     "name": "stdout",
     "output_type": "stream",
     "text": [
      "           Pclass         Sex         Age       SibSp       Parch        Fare  \\\n",
      "count  891.000000  891.000000  714.000000  891.000000  891.000000  891.000000   \n",
      "mean     2.308642    0.647587   29.699118    0.523008    0.381594   32.204208   \n",
      "std      0.836071    0.477990   14.526497    1.102743    0.806057   49.693429   \n",
      "min      1.000000    0.000000    0.420000    0.000000    0.000000    0.000000   \n",
      "25%      2.000000    0.000000   20.125000    0.000000    0.000000    7.910400   \n",
      "50%      3.000000    1.000000   28.000000    0.000000    0.000000   14.454200   \n",
      "75%      3.000000    1.000000   38.000000    1.000000    0.000000   31.000000   \n",
      "max      3.000000    1.000000   80.000000    8.000000    6.000000  512.329200   \n",
      "\n",
      "         Embarked  \n",
      "count  891.000000  \n",
      "mean     1.538721  \n",
      "std      0.794231  \n",
      "min      0.000000  \n",
      "25%      1.000000  \n",
      "50%      2.000000  \n",
      "75%      2.000000  \n",
      "max      3.000000  \n"
     ]
    }
   ],
   "source": [
    "# Change sex (categorical value) into number value male: 1, female: 0\n",
    "X_plus = X.copy()\n",
    "X_valid_plus = X_valid.copy()\n",
    "label_encoder = LabelEncoder()\n",
    "\n",
    "X_plus['Sex'] = pd.DataFrame(label_encoder.fit_transform(X['Sex']))\n",
    "X_valid_plus['Sex'] = pd.DataFrame(label_encoder.transform(X_valid['Sex']))\n",
    "\n",
    "X_plus['Embarked'] = pd.DataFrame(label_encoder.fit_transform(X['Embarked'].astype(str)))\n",
    "X_valid_plus['Embarked'] = pd.DataFrame(label_encoder.transform(X_valid['Embarked'].astype(str)))\n",
    "\n",
    "print(X_plus.describe())"
   ]
  },
  {
   "cell_type": "code",
   "execution_count": 7,
   "metadata": {},
   "outputs": [
    {
     "name": "stdout",
     "output_type": "stream",
     "text": [
      "[22. 38. 26. 35. nan 54.  2. 27. 14.  4. 58. 20. 39. 55. 31. 34. 15. 28.\n",
      "  8. 19. 40. 66. 42. 21. 18.  3.  7. 49. 29. 65.  5. 11. 45. 17. 32. 16.\n",
      " 25.  1. 30. 33. 23. 24. 46. 59. 71. 37. 47. 70. 12.  9. 36. 51. 56. 44.\n",
      " 61. 50. 62. 41. 52. 63. 43. 60. 10. 64. 13. 48. 53. 57. 80.  6.  0. 74.]\n"
     ]
    }
   ],
   "source": [
    "# We still see that the Age column is in float, so it's better to round it up as an integer\n",
    "X_plus['Age'] = X_plus['Age'].round()\n",
    "\n",
    "print(X_plus['Age'].unique())"
   ]
  },
  {
   "cell_type": "code",
   "execution_count": 8,
   "metadata": {},
   "outputs": [],
   "source": [
    "# Transform missing value\n",
    "imputer = SimpleImputer()\n",
    "X_plus = pd.DataFrame(imputer.fit_transform(X_plus))\n",
    "X_valid_plus = pd.DataFrame(imputer.transform(X_valid_plus))"
   ]
  },
  {
   "cell_type": "code",
   "execution_count": 9,
   "metadata": {},
   "outputs": [
    {
     "name": "stdout",
     "output_type": "stream",
     "text": [
      "0.019079685746352413\n"
     ]
    }
   ],
   "source": [
    "# Modelling using XGBoost\n",
    "xg_model = XGBRegressor()\n",
    "xg_model.fit(X_plus, y)\n",
    "\n",
    "# Check MAE\n",
    "predicted_survive = xg_model.predict(X_plus)\n",
    "predicted_survive = predicted_survive.round()\n",
    "\n",
    "print(mean_absolute_error(predicted_survive, y))"
   ]
  },
  {
   "cell_type": "code",
   "execution_count": 10,
   "metadata": {},
   "outputs": [
    {
     "name": "stdout",
     "output_type": "stream",
     "text": [
      "0.017957351290684626\n"
     ]
    }
   ],
   "source": [
    "# Modelling using RandomForestRegressor\n",
    "model = RandomForestRegressor(random_state = 1)\n",
    "model.fit(X_plus, y)\n",
    "\n",
    "# Check MAE\n",
    "predicted_survive = model.predict(X_plus)\n",
    "predicted_survive = predicted_survive.round()\n",
    "\n",
    "print(mean_absolute_error(predicted_survive, y))"
   ]
  },
  {
   "cell_type": "code",
   "execution_count": 11,
   "metadata": {},
   "outputs": [
    {
     "name": "stdout",
     "output_type": "stream",
     "text": [
      "int32\n"
     ]
    }
   ],
   "source": [
    "predicted_survive = model.predict(X_valid_plus)\n",
    "predicted_survive = predicted_survive.round()\n",
    "predicted_survive = predicted_survive.astype(int)\n",
    "\n",
    "print(predicted_survive.dtype)"
   ]
  },
  {
   "cell_type": "code",
   "execution_count": 12,
   "metadata": {},
   "outputs": [],
   "source": [
    "# Output\n",
    "output = pd.DataFrame({'PassengerId': test_d.PassengerId,\n",
    "                       'Survived': predicted_survive})\n",
    "output.to_csv('submission.csv', index=False)"
   ]
  }
 ],
 "metadata": {
  "kernelspec": {
   "display_name": "Python 3",
   "language": "python",
   "name": "python3"
  },
  "language_info": {
   "codemirror_mode": {
    "name": "ipython",
    "version": 3
   },
   "file_extension": ".py",
   "mimetype": "text/x-python",
   "name": "python",
   "nbconvert_exporter": "python",
   "pygments_lexer": "ipython3",
   "version": "3.8.5"
  }
 },
 "nbformat": 4,
 "nbformat_minor": 4
}
